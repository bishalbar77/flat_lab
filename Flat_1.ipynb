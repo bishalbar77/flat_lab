{
  "nbformat": 4,
  "nbformat_minor": 0,
  "metadata": {
    "colab": {
      "name": "Flat_1.ipynb",
      "provenance": [],
      "collapsed_sections": [],
      "authorship_tag": "ABX9TyNYaq53gtGhod6bCMqGYQO3",
      "include_colab_link": true
    },
    "kernelspec": {
      "name": "python3",
      "display_name": "Python 3"
    },
    "language_info": {
      "name": "python"
    }
  },
  "cells": [
    {
      "cell_type": "markdown",
      "metadata": {
        "id": "view-in-github",
        "colab_type": "text"
      },
      "source": [
        "<a href=\"https://colab.research.google.com/github/bishalbar77/flat_lab/blob/main/Flat_1.ipynb\" target=\"_parent\"><img src=\"https://colab.research.google.com/assets/colab-badge.svg\" alt=\"Open In Colab\"/></a>"
      ]
    },
    {
      "cell_type": "code",
      "execution_count": null,
      "metadata": {
        "colab": {
          "base_uri": "https://localhost:8080/"
        },
        "id": "VGQftCzdEc9z",
        "outputId": "04ea9a91-4581-41c0-e64b-2eb27042de1c"
      },
      "outputs": [
        {
          "output_type": "stream",
          "name": "stdout",
          "text": [
            "Requirement already satisfied: automata-lib in /usr/local/lib/python3.7/dist-packages (5.0.0)\n",
            "Requirement already satisfied: pydot in /usr/local/lib/python3.7/dist-packages (from automata-lib) (1.3.0)\n",
            "Requirement already satisfied: pyparsing>=2.1.4 in /usr/local/lib/python3.7/dist-packages (from pydot->automata-lib) (3.0.6)\n"
          ]
        }
      ],
      "source": [
        "pip install automata-lib"
      ]
    },
    {
      "cell_type": "markdown",
      "source": [
        "All elements present in DFA should in form of set"
      ],
      "metadata": {
        "id": "RTjos32aGw8g"
      }
    },
    {
      "cell_type": "markdown",
      "source": [
        "Program 3 : Lab 2"
      ],
      "metadata": {
        "id": "4XDF_e7-K19o"
      }
    },
    {
      "cell_type": "code",
      "source": [
        "from automata.fa.dfa import DFA\n",
        "checkDFA = DFA(\n",
        "    states={'A','B','C'},\n",
        "    input_symbols={'a','b'},\n",
        "    transitions={\n",
        "        'A':{'a':'B','b':'A'},\n",
        "        'B':{'a':'C','b':'A'},\n",
        "        'C':{'a':'C','b':'A'},\n",
        "    },\n",
        "    initial_state='A',\n",
        "    final_states={'C'}\n",
        "    )\n",
        "inputStr = input(\"Enter :\")\n",
        "if checkDFA.accepts_input(inputStr):\n",
        "  print(\"String is Accepted\")\n",
        "else:\n",
        "  print(\"String is Rejected\")"
      ],
      "metadata": {
        "colab": {
          "base_uri": "https://localhost:8080/"
        },
        "id": "Pww1gimjFsoc",
        "outputId": "9a44f8b8-ebdb-4db5-9569-048c8727c204"
      },
      "execution_count": null,
      "outputs": [
        {
          "output_type": "stream",
          "name": "stdout",
          "text": [
            "Enter :aaaa\n",
            "String is Accepted\n"
          ]
        }
      ]
    },
    {
      "cell_type": "markdown",
      "source": [
        "Program 1 : Lab 1"
      ],
      "metadata": {
        "id": "zKxuKU8ZK4Dy"
      }
    },
    {
      "cell_type": "code",
      "source": [
        "from automata.fa.dfa import DFA\n",
        "checkDFA = DFA(\n",
        "    states={'A','B'},\n",
        "    input_symbols={'a','b'},\n",
        "    transitions={\n",
        "        'A':{'a':'A','b':'B'},\n",
        "        'B':{'a':'B','b':'B'},\n",
        "    },\n",
        "    initial_state='A',\n",
        "    final_states={'B'}\n",
        "    )\n",
        "inputStr = input(\"Enter :\")\n",
        "if checkDFA.accepts_input(inputStr):\n",
        "  print(\"String is Accepted\")\n",
        "else:\n",
        "  print(\"String is Rejected\")"
      ],
      "metadata": {
        "colab": {
          "base_uri": "https://localhost:8080/"
        },
        "id": "3-S4OoRmJlah",
        "outputId": "1a8bbf3a-b3e4-4023-d7df-426398e28242"
      },
      "execution_count": null,
      "outputs": [
        {
          "output_type": "stream",
          "name": "stdout",
          "text": [
            "Enter :abababab\n",
            "String is Accepted\n"
          ]
        }
      ]
    },
    {
      "cell_type": "markdown",
      "source": [
        "Program 2 : Lab 1"
      ],
      "metadata": {
        "id": "3_zr_IUrK6HK"
      }
    },
    {
      "cell_type": "code",
      "source": [
        "from automata.fa.dfa import DFA\n",
        "checkDFA = DFA(\n",
        "    states={'A','B','C'},\n",
        "    input_symbols={'a','b'},\n",
        "    transitions={\n",
        "        'A':{'a':'A','b':'B'},\n",
        "        'B':{'a':'B','b':'C'},\n",
        "        'C':{'a':'C','b':'C'},\n",
        "    },\n",
        "    initial_state='A',\n",
        "    final_states={'C'}\n",
        "    )\n",
        "inputStr = input(\"Enter :\")\n",
        "if checkDFA.accepts_input(inputStr):\n",
        "  print(\"String is Accepted\")\n",
        "else:\n",
        "  print(\"String is Rejected\")"
      ],
      "metadata": {
        "colab": {
          "base_uri": "https://localhost:8080/"
        },
        "id": "-f-tZaU4J6KZ",
        "outputId": "f22fd2b3-849c-4da5-832d-8da12d55ee13"
      },
      "execution_count": null,
      "outputs": [
        {
          "output_type": "stream",
          "name": "stdout",
          "text": [
            "Enter :aaaa\n",
            "String is Rejected\n"
          ]
        }
      ]
    },
    {
      "cell_type": "markdown",
      "source": [
        "Program 4 : Lab 2 :- To accept all strings having 101 as substring"
      ],
      "metadata": {
        "id": "Q8wbCwiEPt4A"
      }
    },
    {
      "cell_type": "code",
      "source": [
        "from automata.fa.nfa import NFA\n",
        "checkNFA = NFA(\n",
        "    states={'A','B','C','D'},\n",
        "    input_symbols={'0','1'},\n",
        "    transitions={\n",
        "        'A':{'1':{'A','B'},'0':{'A'}},\n",
        "        'B':{'0':{'C'}},\n",
        "        'C':{'1':{'D'}},\n",
        "        'D':{'1':{'D'},'0':{'D'}},\n",
        "    },\n",
        "    initial_state='A',\n",
        "    final_states={'D'}\n",
        "    )"
      ],
      "metadata": {
        "id": "l1_RjUvnNjGv"
      },
      "execution_count": null,
      "outputs": []
    },
    {
      "cell_type": "code",
      "source": [
        "inputNum = input(\"Enter a string :\")\n",
        "if checkNFA.accepts_input(inputNum):\n",
        "  print(\"String is Accepted\")\n",
        "else:\n",
        "  print(\"String is Rejected\")"
      ],
      "metadata": {
        "colab": {
          "base_uri": "https://localhost:8080/"
        },
        "id": "2rxRAeEmO5Vx",
        "outputId": "9ab6d646-8c0e-48d8-9845-630af4dc6d25"
      },
      "execution_count": null,
      "outputs": [
        {
          "output_type": "stream",
          "name": "stdout",
          "text": [
            "Enter a string :101010\n",
            "String is Accepted\n"
          ]
        }
      ]
    },
    {
      "cell_type": "code",
      "source": [
        "print(checkNFA.read_input(inputNum))"
      ],
      "metadata": {
        "colab": {
          "base_uri": "https://localhost:8080/"
        },
        "id": "TVOfSmYWP2xX",
        "outputId": "4be789ac-fc22-4018-f319-2cca6804e865"
      },
      "execution_count": null,
      "outputs": [
        {
          "output_type": "stream",
          "name": "stdout",
          "text": [
            "{'D', 'A', 'C'}\n"
          ]
        }
      ]
    },
    {
      "cell_type": "markdown",
      "source": [
        "Program 5 : Lab 2 :- To accept all strings for (0+1)* 100 (0+1) *011"
      ],
      "metadata": {
        "id": "bX9Qo-uqRYij"
      }
    },
    {
      "cell_type": "code",
      "source": [
        "from automata.fa.nfa import NFA\n",
        "checkNFA = NFA(\n",
        "    states={'A','B','C','D','E','F','G'},\n",
        "    input_symbols={'0','1'},\n",
        "    transitions={\n",
        "        'A':{'1':{'A','B'},'0':{'A'}},\n",
        "        'B':{'0':{'C'}},\n",
        "        'C':{'0':{'D'}},\n",
        "        'D':{'1':{'D'},'0':{'D','E'}},\n",
        "        'E':{'1':{'F'}},\n",
        "        'F':{'1':{'G'}},\n",
        "        'G':{},\n",
        "    },\n",
        "    initial_state='A',\n",
        "    final_states={'G'}\n",
        "    )"
      ],
      "metadata": {
        "id": "4WIsJyFVR_o0"
      },
      "execution_count": null,
      "outputs": []
    },
    {
      "cell_type": "code",
      "source": [
        "inputNum = input(\"Enter a string :\")\n",
        "if checkNFA.accepts_input(inputNum):\n",
        "  print(\"String is Accepted\")\n",
        "else:\n",
        "  print(\"String is Rejected\")"
      ],
      "metadata": {
        "colab": {
          "base_uri": "https://localhost:8080/"
        },
        "id": "5-64WUQwSnk8",
        "outputId": "983d7968-672f-4770-d7b8-e6895aa458e9"
      },
      "execution_count": null,
      "outputs": [
        {
          "output_type": "stream",
          "name": "stdout",
          "text": [
            "Enter a string :0110001011\n",
            "String is Accepted\n"
          ]
        }
      ]
    }
  ]
}